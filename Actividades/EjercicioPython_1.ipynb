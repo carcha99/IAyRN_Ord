{
  "nbformat": 4,
  "nbformat_minor": 0,
  "metadata": {
    "colab": {
      "provenance": [],
      "authorship_tag": "ABX9TyMW6fLCqKYsS/1aiDemntaI"
    },
    "kernelspec": {
      "name": "python3",
      "display_name": "Python 3"
    },
    "language_info": {
      "name": "python"
    }
  },
  "cells": [
    {
      "cell_type": "markdown",
      "source": [
        "Ejercicio 1\n",
        "Carlos Andrés Chávez Rivera\n",
        "2109415\n",
        "N3"
      ],
      "metadata": {
        "id": "8EfkZnGhvudc"
      }
    },
    {
      "cell_type": "code",
      "source": [
        "nombre=input(\"Nombre:\"+\" \")\n",
        "if nombre in [\"Ana\",\"Juan\",\"Pedro\"]:\n",
        "  print(\"Hola!\")\n",
        "else: print(\"Hola\"+\" \"+ nombre + \"!\")\n"
      ],
      "metadata": {
        "colab": {
          "base_uri": "https://localhost:8080/"
        },
        "id": "cbuiYXPyUoKO",
        "outputId": "3f5902cf-7796-4bed-bb37-93ad3b7040e9"
      },
      "execution_count": 17,
      "outputs": [
        {
          "output_type": "stream",
          "name": "stdout",
          "text": [
            "Nombre: Ana\n",
            "Hola!\n"
          ]
        }
      ]
    },
    {
      "cell_type": "code",
      "source": [
        "\n",
        "\n",
        "  n=int(input(\"Ingrese el número de elementos: \"))\n",
        "\n",
        "  listaorig=[]\n",
        "  for i in range(n):\n",
        "    elemento=input(f\"Ingrese el elemento {i + 1}: \")\n",
        "    listaorig.append(elemento)\n",
        "\n",
        "\n",
        "  listainvertida = listaorig[::-1]\n",
        "\n",
        "  print(\"\\nLista invertida:\", listainvertida)\n",
        "\n"
      ],
      "metadata": {
        "colab": {
          "base_uri": "https://localhost:8080/"
        },
        "id": "AAM-i2PtWNhQ",
        "outputId": "7cf948ac-c9ce-414f-fb01-e25ce9585923"
      },
      "execution_count": 18,
      "outputs": [
        {
          "output_type": "stream",
          "name": "stdout",
          "text": [
            "Ingrese el número de elementos: 5\n",
            "Ingrese el elemento 1: 1\n",
            "Ingrese el elemento 2: 2\n",
            "Ingrese el elemento 3: 3\n",
            "Ingrese el elemento 4: 4\n",
            "Ingrese el elemento 5: 5\n",
            "\n",
            "Lista invertida: ['5', '4', '3', '2', '1']\n"
          ]
        }
      ]
    },
    {
      "cell_type": "code",
      "source": [
        "def generar_fibonacci(cantidad):\n",
        "    fibonacci = [0, 1]\n",
        "\n",
        "    for i in range(2, cantidad):\n",
        "        fibonacci.append(fibonacci[i-1] + fibonacci[i-2])\n",
        "\n",
        "    return fibonacci\n",
        "\n",
        "def main():\n",
        "    try:\n",
        "        cantidad = int(input(\"Ingrese la cantidad de números de la serie de Fibonacci que desea generar: \"))\n",
        "\n",
        "        if cantidad <= 0:\n",
        "            print(\"Por favor, ingrese un número mayor que cero.\")\n",
        "        else:\n",
        "            serie_fibonacci = generar_fibonacci(cantidad)\n",
        "            print(f\"Serie de Fibonacci de los primeros {cantidad} números:\")\n",
        "            print(serie_fibonacci)\n",
        "    except ValueError:\n",
        "        print(\"Por favor, ingrese un número entero válido.\")\n",
        "\n",
        "if __name__ == \"__main__\":\n",
        "    main()"
      ],
      "metadata": {
        "colab": {
          "base_uri": "https://localhost:8080/"
        },
        "id": "TJeYbJCBpBKq",
        "outputId": "8974f4a1-2efb-437c-c60c-81e5a086bdf5"
      },
      "execution_count": 19,
      "outputs": [
        {
          "output_type": "stream",
          "name": "stdout",
          "text": [
            "Ingrese la cantidad de números de la serie de Fibonacci que desea generar: 7\n",
            "Serie de Fibonacci de los primeros 7 números:\n",
            "[0, 1, 1, 2, 3, 5, 8]\n"
          ]
        }
      ]
    },
    {
      "cell_type": "code",
      "source": [
        "import random\n",
        "\n",
        "def jugar_adivina_el_numero():\n",
        "    numero_objetivo = random.randint(1, 100)\n",
        "    intentos = 0\n",
        "\n",
        "    print(\"¡Bienvenido al juego de adivinar el número!\")\n",
        "    print(\"Estoy pensando en un número entre 1 y 100.\")\n",
        "\n",
        "    while True:\n",
        "        intento_usuario = int(input(\"Adivina el número: \"))\n",
        "        intentos += 1\n",
        "\n",
        "        if intento_usuario == numero_objetivo:\n",
        "            print(f\"¡Felicidades! Adivinaste el número en {intentos} intentos.\")\n",
        "            break\n",
        "        elif intento_usuario < numero_objetivo:\n",
        "            print(\"El número es mayor. Intenta de nuevo.\")\n",
        "        else:\n",
        "            print(\"El número es menor. Intenta de nuevo.\")\n",
        "\n",
        "if __name__ == \"__main__\":\n",
        "    jugar_adivina_el_numero()\n"
      ],
      "metadata": {
        "colab": {
          "base_uri": "https://localhost:8080/"
        },
        "id": "o-jXcXhbpgNX",
        "outputId": "a0502faf-cc99-41e3-dbd1-83f25dfdf921"
      },
      "execution_count": 20,
      "outputs": [
        {
          "output_type": "stream",
          "name": "stdout",
          "text": [
            "¡Bienvenido al juego de adivinar el número!\n",
            "Estoy pensando en un número entre 1 y 100.\n",
            "Adivina el número: 30\n",
            "El número es menor. Intenta de nuevo.\n",
            "Adivina el número: 20\n",
            "El número es mayor. Intenta de nuevo.\n",
            "Adivina el número: 24\n",
            "El número es mayor. Intenta de nuevo.\n",
            "Adivina el número: 26\n",
            "¡Felicidades! Adivinaste el número en 4 intentos.\n"
          ]
        }
      ]
    },
    {
      "cell_type": "code",
      "source": [
        "def es_primo(numero):\n",
        "    if numero < 2:\n",
        "        return False\n",
        "    for i in range(2, int(numero**0.5) + 1):\n",
        "        if numero % i == 0:\n",
        "            return False\n",
        "    return True\n",
        "\n",
        "def numeros_primos_en_rango(inicio, fin):\n",
        "    primos = []\n",
        "    for num in range(inicio, fin + 1):\n",
        "        if es_primo(num):\n",
        "            primos.append(num)\n",
        "    return primos\n",
        "\n",
        "def main():\n",
        "    try:\n",
        "        inicio = int(input(\"Ingrese el inicio del rango: \"))\n",
        "        fin = int(input(\"Ingrese el fin del rango: \"))\n",
        "\n",
        "        if inicio < 0 or fin < 0 or inicio > fin:\n",
        "            print(\"Por favor, ingrese un rango válido.\")\n",
        "        else:\n",
        "            primos_en_rango = numeros_primos_en_rango(inicio, fin)\n",
        "            print(f\"Números primos en el rango de {inicio} a {fin}:\")\n",
        "            print(primos_en_rango)\n",
        "    except ValueError:\n",
        "        print(\"Por favor, ingrese números enteros válidos.\")\n",
        "\n",
        "if __name__ == \"__main__\":\n",
        "    main()\n"
      ],
      "metadata": {
        "colab": {
          "base_uri": "https://localhost:8080/"
        },
        "id": "r0gNe_d4p2T0",
        "outputId": "4266bd20-a13b-442c-96d5-11b0fdab974e"
      },
      "execution_count": 21,
      "outputs": [
        {
          "output_type": "stream",
          "name": "stdout",
          "text": [
            "Ingrese el inicio del rango: 2\n",
            "Ingrese el fin del rango: 40\n",
            "Números primos en el rango de 2 a 40:\n",
            "[2, 3, 5, 7, 11, 13, 17, 19, 23, 29, 31, 37]\n"
          ]
        }
      ]
    },
    {
      "cell_type": "code",
      "source": [
        "def suma(a, b):\n",
        "    return a + b\n",
        "\n",
        "def resta(a, b):\n",
        "    return a - b\n",
        "\n",
        "def multiplicacion(a, b):\n",
        "    return a * b\n",
        "\n",
        "def division(a, b):\n",
        "    if b != 0:\n",
        "        return a / b\n",
        "    else:\n",
        "        return \"Error: No se puede dividir entre cero.\"\n",
        "\n",
        "def main():\n",
        "    try:\n",
        "        num1 = float(input(\"Ingrese el primer número: \"))\n",
        "        num2 = float(input(\"Ingrese el segundo número: \"))\n",
        "\n",
        "        print(\"Operaciones disponibles:\")\n",
        "        print(\"1. Suma\")\n",
        "        print(\"2. Resta\")\n",
        "        print(\"3. Multiplicación\")\n",
        "        print(\"4. División\")\n",
        "\n",
        "        opcion = int(input(\"Seleccione una operación (1-4): \"))\n",
        "\n",
        "        if opcion < 1 or opcion > 4:\n",
        "            print(\"Por favor, seleccione una operación válida.\")\n",
        "        else:\n",
        "            if opcion == 1:\n",
        "                resultado = suma(num1, num2)\n",
        "                operacion = \"suma\"\n",
        "            elif opcion == 2:\n",
        "                resultado = resta(num1, num2)\n",
        "                operacion = \"resta\"\n",
        "            elif opcion == 3:\n",
        "                resultado = multiplicacion(num1, num2)\n",
        "                operacion = \"multiplicación\"\n",
        "            elif opcion == 4:\n",
        "                resultado = division(num1, num2)\n",
        "                operacion = \"división\"\n",
        "\n",
        "            print(f\"El resultado de la {operacion} es: {resultado}\")\n",
        "\n",
        "    except ValueError:\n",
        "        print(\"Por favor, ingrese números válidos.\")\n",
        "\n",
        "if __name__ == \"__main__\":\n",
        "    main()\n"
      ],
      "metadata": {
        "id": "8R8owYTjqMv7",
        "outputId": "c224fc81-ea8a-45f8-d68d-cba0467d9fc4",
        "colab": {
          "base_uri": "https://localhost:8080/"
        }
      },
      "execution_count": 22,
      "outputs": [
        {
          "output_type": "stream",
          "name": "stdout",
          "text": [
            "Ingrese el primer número: 5\n",
            "Ingrese el segundo número: 3\n",
            "Operaciones disponibles:\n",
            "1. Suma\n",
            "2. Resta\n",
            "3. Multiplicación\n",
            "4. División\n",
            "Seleccione una operación (1-4): 3\n",
            "El resultado de la multiplicación es: 15.0\n"
          ]
        }
      ]
    }
  ]
}